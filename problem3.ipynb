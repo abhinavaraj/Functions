{
 "cells": [
  {
   "cell_type": "code",
   "execution_count": null,
   "id": "91fe1c3b-d4a2-43a2-b349-b3b41d384cdf",
   "metadata": {},
   "outputs": [],
   "source": [
    "#Write a function is_even(n) that returns True if the number is even, else False\n",
    "def is_even(n):\n",
    "    if n%2==0:\n",
    "        return True\n",
    "    else:\n",
    "         return False\n",
    "n=int(input('Enter the Number'))\n",
    "is_even(n)"
   ]
  },
  {
   "cell_type": "code",
   "execution_count": null,
   "id": "eb2f0005-1ac3-4e61-b7f0-c278f1afbe94",
   "metadata": {},
   "outputs": [],
   "source": [
    "\n",
    "#Create a list of 10 numbers and use a for loop to count how many are even.\n",
    "List=[1,2,3,4,5,6,7,8,9,10]\n",
    "count=len([n for n in List if n%2==0])\n",
    "print('The number of even number in the list are',count)"
   ]
  },
  {
   "cell_type": "code",
   "execution_count": null,
   "id": "248f03ca-f697-4e17-8215-7e18ce61d4ac",
   "metadata": {},
   "outputs": [],
   "source": [
    "#Write a function max_of_three(a, b, c) that returns the largest of the three numbers using if-else.\n",
    "def max_of_three(a,b,c):\n",
    "    if a>b or a>c:\n",
    "        print(a,'is greater')\n",
    "    elif a<b or c<b:\n",
    "        print(b,'is greater')\n",
    "    elif c>a or c>b:\n",
    "        print(c,'is greater')\n",
    "    else:\n",
    "        return 'Enter an correct INT value'\n",
    "a=int(input('Enter the 1st Number'))\n",
    "b=int(input('Enter the 2nd Number'))\n",
    "c=int(input('Enter the 3rd Number'))\n",
    "max_of_three(a,b,c)"
   ]
  },
  {
   "cell_type": "code",
   "execution_count": null,
   "id": "f50bfa5f-4ac3-4c95-b919-3d4cfd5b0941",
   "metadata": {},
   "outputs": [],
   "source": [
    "#Write a function to calculate the sum of all elements in a list.\n",
    "def t_sum(list):\n",
    "    t=0\n",
    "    for i in list:\n",
    "        t+=i\n",
    "    return t\n",
    "lis=[1,2,3,4,5]\n",
    "t_sum(lis)"
   ]
  },
  {
   "cell_type": "code",
   "execution_count": null,
   "id": "9f65d6df-4cbb-4785-bd60-c6e76384b865",
   "metadata": {},
   "outputs": [],
   "source": [
    "#Use a loop to print numbers from 1 to 50, but skip the numbers divisible by 5.\n",
    "[x for x in range(1,51) if x%5!=0]"
   ]
  },
  {
   "cell_type": "code",
   "execution_count": null,
   "id": "070956d1-0c7c-4b19-9454-1cb0c5a66457",
   "metadata": {},
   "outputs": [],
   "source": [
    "#Write a function is_palindrome(s) that returns True if the string s is a palindrome.\n",
    "def palindrome(x):\n",
    "    if x==x[::-1]:\n",
    "        return True\n",
    "    else:\n",
    "        return False\n",
    "word=input('Enter a word:')\n",
    "w=word.lower()\n",
    "palindrome(w)"
   ]
  },
  {
   "cell_type": "code",
   "execution_count": null,
   "id": "6e9e1ce4-dfe1-4c8a-9bfa-d4d5c7d12b09",
   "metadata": {},
   "outputs": [],
   "source": [
    "#Create a dictionary where the keys are numbers from 1 to 5 and the values are their squares\n",
    "sqr_dict={}\n",
    "for i in range(1,6):\n",
    "    sqr_dict[i]=i**2\n",
    "print(sqr_dict)"
   ]
  },
  {
   "cell_type": "code",
   "execution_count": null,
   "id": "e8507e03-24dd-433f-b814-29805c6fa9e5",
   "metadata": {},
   "outputs": [],
   "source": [
    "#Given a list of numbers, print all the duplicate elements using a loop.\n",
    "def dupl(lis):\n",
    "    for i in lis:\n",
    "        if lis.count(i) > 1 and i not in dup:\n",
    "            dup.append(i)\n",
    "    print(dup)\n",
    "dup = []\n",
    "x = eval(input('Enter a list of values: '))\n",
    "dupl(x)"
   ]
  },
  {
   "cell_type": "code",
   "execution_count": null,
   "id": "c9e62777-09cb-4155-8d94-42ca7bb6e17f",
   "metadata": {},
   "outputs": [],
   "source": [
    "'''Write a loop to print the following pattern:\n",
    "\n",
    "*\n",
    "**\n",
    "***\n",
    "****\n",
    "*****'''\n",
    "for i in range(1,6):\n",
    "    for j in range(1,i+1):\n",
    "        print('*',end='')\n",
    "    print('')    "
   ]
  },
  {
   "cell_type": "code",
   "execution_count": null,
   "id": "068eb286-1ac8-4798-937b-c34ee30de5ac",
   "metadata": {},
   "outputs": [],
   "source": [
    "## Write a function calculator(a, b, op) that takes two numbers and an operator (+, -, *, /) and returns the result using if-elif.\n",
    "def calculator(a,b,op):\n",
    "    if op=='+':\n",
    "        return a+b\n",
    "    elif op=='-':\n",
    "        return a-b\n",
    "    elif op=='*':\n",
    "        return a*b\n",
    "    elif op=='/':\n",
    "        return a/b\n",
    "    else:\n",
    "        return \"Enter an correct OPERATOR\"\n",
    "a=int(input('Enter the 1st Number'))\n",
    "b=int(input('Enter the 2nd Number'))\n",
    "op=input('Enter the Operator')\n",
    "calculator(a,b,op)\n",
    "    "
   ]
  },
  {
   "cell_type": "code",
   "execution_count": null,
   "id": "6be8fa35-33aa-4c4f-9769-c4c8bea6cfb9",
   "metadata": {},
   "outputs": [],
   "source": []
  }
 ],
 "metadata": {
  "kernelspec": {
   "display_name": "Python [conda env:base] *",
   "language": "python",
   "name": "conda-base-py"
  },
  "language_info": {
   "codemirror_mode": {
    "name": "ipython",
    "version": 3
   },
   "file_extension": ".py",
   "mimetype": "text/x-python",
   "name": "python",
   "nbconvert_exporter": "python",
   "pygments_lexer": "ipython3",
   "version": "3.13.5"
  }
 },
 "nbformat": 4,
 "nbformat_minor": 5
}
