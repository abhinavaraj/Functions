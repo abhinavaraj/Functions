{
 "cells": [
  {
   "cell_type": "code",
   "execution_count": null,
   "id": "85461c6d-5e29-4014-a619-59047b05db9e",
   "metadata": {},
   "outputs": [],
   "source": [
    "#Write a Python program to find the factorial of a number using a loop.\n",
    "num=int(input(\"Enter a Number\"))\n",
    "f=1\n",
    "if num>1:\n",
    "    for i in range(1,num+1):\n",
    "        f=f*i\n",
    "    print(f'The factorial of {num} is',f)\n",
    "elif num==0:\n",
    "    print(f'The factorial of {num} is',f)\n",
    "else:\n",
    "   print('Please enter a positive number')"
   ]
  },
  {
   "cell_type": "code",
   "execution_count": null,
   "id": "e0053c9d-e0c7-491b-9cf6-72e3da32c7b7",
   "metadata": {},
   "outputs": [],
   "source": [
    "#Write a Python program to find the factorial of a number using function\n",
    "def factorial(num):\n",
    "    f=1\n",
    "    if num==0:\n",
    "        return f'The factorial of {num} is',f\n",
    "    elif num<1:\n",
    "       return 'Undefined for NEGATIVE number'\n",
    "    else:\n",
    "        for i in range(1,num+1):\n",
    "            f=f*i\n",
    "    return f'The factorial of {num} is',f\n",
    "num=int(input(\"Enter a Number\"))\n",
    "factorial(num)"
   ]
  },
  {
   "cell_type": "code",
   "execution_count": null,
   "id": "50430ee3-b527-4d5d-baf0-20c6aec0ae17",
   "metadata": {},
   "outputs": [],
   "source": [
    "#Write a Python program to find the fibonacci series\n",
    "def fibonacci(n):\n",
    "    a=0\n",
    "    b=1\n",
    "    l=[a,b]\n",
    "    for i in range(n-2):\n",
    "        s=a+b\n",
    "        l.append(s)\n",
    "        a=b\n",
    "        b=s\n",
    "    return l\n",
    "limit=int(input('Enter the limit:'))\n",
    "print(f'Fibonacci series upto {limit} are',fibonacci(limit))"
   ]
  },
  {
   "cell_type": "code",
   "execution_count": null,
   "id": "30fa2083-6bba-4915-bcf2-27878a099a31",
   "metadata": {},
   "outputs": [],
   "source": [
    "#Write a Python program that takes a string and prints its reverse.\n",
    "def sr(x):\n",
    "    return x[::-1]\n",
    "str=input('Enter a string:')\n",
    "print('The reversed string is',sr(str))"
   ]
  },
  {
   "cell_type": "code",
   "execution_count": null,
   "id": "fff70895-5397-4204-bd67-41f96b310209",
   "metadata": {},
   "outputs": [],
   "source": [
    "#Write a program to count the number of vowels in a given string.\n",
    "v=['a','e','i','o','u','A','E','I','O','U']\n",
    "vc=0\n",
    "s=input('Enter a string:')\n",
    "for i in s:\n",
    "    if i in v:\n",
    "        vc+=1\n",
    "print(vc)\n",
    "        "
   ]
  },
  {
   "cell_type": "code",
   "execution_count": null,
   "id": "00a87826-2928-4682-becc-c339c3c71e14",
   "metadata": {},
   "outputs": [],
   "source": [
    "#Create a list of all numbers from 1 to 100 that are divisible by both 3 and 5 using list comprehension.\n",
    "[n for n in range(1,101) if n%3==0 and n%5==0 ]"
   ]
  },
  {
   "cell_type": "code",
   "execution_count": null,
   "id": "413995f8-647b-452d-8ea9-24d5b2e4c5a9",
   "metadata": {},
   "outputs": [],
   "source": [
    "#Write a list comprehension that creates a list of squares of even numbers from 1 to 20.\n",
    "[n**2 for n in range(1,21) if n%2==0]"
   ]
  },
  {
   "cell_type": "code",
   "execution_count": null,
   "id": "ea7ec63c-7063-47bb-89e9-e2fccd88f611",
   "metadata": {},
   "outputs": [],
   "source": [
    "#Take a number and print the sum of its digits.\n",
    "d=input('Enter the digit')\n",
    "s=0\n",
    "for i in d:\n",
    "    s+=int(i)\n",
    "print(s)"
   ]
  },
  {
   "cell_type": "code",
   "execution_count": null,
   "id": "71795bad-e558-4810-95c1-8af4c0679a51",
   "metadata": {},
   "outputs": [],
   "source": [
    "#Take an integer input and print its reverse.\n",
    "d=input('Enter the digit')\n",
    "reversed=d[::-1]\n",
    "print('Reversed integer:',int(reversed))"
   ]
  },
  {
   "cell_type": "code",
   "execution_count": null,
   "id": "c353a6fe-6f2d-4b52-965a-05c7ce86bd24",
   "metadata": {},
   "outputs": [],
   "source": []
  }
 ],
 "metadata": {
  "kernelspec": {
   "display_name": "Python [conda env:base] *",
   "language": "python",
   "name": "conda-base-py"
  },
  "language_info": {
   "codemirror_mode": {
    "name": "ipython",
    "version": 3
   },
   "file_extension": ".py",
   "mimetype": "text/x-python",
   "name": "python",
   "nbconvert_exporter": "python",
   "pygments_lexer": "ipython3",
   "version": "3.13.5"
  }
 },
 "nbformat": 4,
 "nbformat_minor": 5
}
